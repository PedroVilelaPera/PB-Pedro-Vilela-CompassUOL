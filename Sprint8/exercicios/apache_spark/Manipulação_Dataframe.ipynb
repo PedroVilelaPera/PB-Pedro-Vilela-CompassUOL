{
  "nbformat": 4,
  "nbformat_minor": 0,
  "metadata": {
    "colab": {
      "provenance": []
    },
    "kernelspec": {
      "name": "python3",
      "display_name": "Python 3"
    },
    "language_info": {
      "name": "python"
    }
  },
  "cells": [
    {
      "cell_type": "code",
      "source": [
        "!pip install pyspark"
      ],
      "metadata": {
        "colab": {
          "base_uri": "https://localhost:8080/"
        },
        "collapsed": true,
        "id": "6aZciGfqt6cC",
        "outputId": "7639488e-cfe3-469e-8ad9-ef12f661190c"
      },
      "execution_count": null,
      "outputs": [
        {
          "output_type": "stream",
          "name": "stdout",
          "text": [
            "Requirement already satisfied: pyspark in /usr/local/lib/python3.10/dist-packages (3.5.3)\n",
            "Requirement already satisfied: py4j==0.10.9.7 in /usr/local/lib/python3.10/dist-packages (from pyspark) (0.10.9.7)\n"
          ]
        }
      ]
    },
    {
      "cell_type": "code",
      "source": [
        "from pyspark.sql import SparkSession\n",
        "from pyspark import SparkContext, SQLContext"
      ],
      "metadata": {
        "id": "Ko8zkOIAuM8q"
      },
      "execution_count": null,
      "outputs": []
    },
    {
      "cell_type": "code",
      "source": [
        "spark = SparkSession \\\n",
        "        .builder \\\n",
        "        .master ('local[*]') \\\n",
        "        .appName('Exercício Intro') \\\n",
        "        .getOrCreate()"
      ],
      "metadata": {
        "id": "iTQT_gCEuPww"
      },
      "execution_count": null,
      "outputs": []
    },
    {
      "cell_type": "code",
      "source": [
        "df_nomes = spark.read.csv('/content/nomes_aleatorios.txt',inferSchema=True)\n",
        "\n",
        "df_nomes.show(5)"
      ],
      "metadata": {
        "colab": {
          "base_uri": "https://localhost:8080/"
        },
        "collapsed": true,
        "id": "VXXKDS6symDe",
        "outputId": "02726782-cdbc-494d-f3ce-b63aedb7b186"
      },
      "execution_count": null,
      "outputs": [
        {
          "output_type": "stream",
          "name": "stdout",
          "text": [
            "+----------------+\n",
            "|             _c0|\n",
            "+----------------+\n",
            "|  Frances Bennet|\n",
            "|   Jamie Russell|\n",
            "|  Edward Kistler|\n",
            "|   Sheila Maurer|\n",
            "|Donald Golightly|\n",
            "+----------------+\n",
            "only showing top 5 rows\n",
            "\n"
          ]
        }
      ]
    },
    {
      "cell_type": "code",
      "source": [
        "df_nomes.printSchema()"
      ],
      "metadata": {
        "colab": {
          "base_uri": "https://localhost:8080/"
        },
        "id": "EKmTJfn5z9JN",
        "outputId": "64aa5da7-552c-441c-f54f-a8e280025d50"
      },
      "execution_count": null,
      "outputs": [
        {
          "output_type": "stream",
          "name": "stdout",
          "text": [
            "root\n",
            " |-- _c0: string (nullable = true)\n",
            "\n"
          ]
        }
      ]
    },
    {
      "cell_type": "code",
      "source": [
        "df_nomes = df_nomes.withColumnRenamed('_c0', 'Nomes')\n",
        "df_nomes.printSchema()\n",
        "df_nomes.show(5)"
      ],
      "metadata": {
        "colab": {
          "base_uri": "https://localhost:8080/"
        },
        "id": "b_1zFow10xhd",
        "outputId": "a9a51bce-1b4e-4470-bae1-adf78cd80fc3"
      },
      "execution_count": null,
      "outputs": [
        {
          "output_type": "stream",
          "name": "stdout",
          "text": [
            "root\n",
            " |-- Nomes: string (nullable = true)\n",
            "\n",
            "+----------------+\n",
            "|           Nomes|\n",
            "+----------------+\n",
            "|  Frances Bennet|\n",
            "|   Jamie Russell|\n",
            "|  Edward Kistler|\n",
            "|   Sheila Maurer|\n",
            "|Donald Golightly|\n",
            "+----------------+\n",
            "only showing top 5 rows\n",
            "\n"
          ]
        }
      ]
    },
    {
      "cell_type": "code",
      "source": [
        "from pyspark.sql.functions import when, rand\n",
        "\n",
        "df_nomes = df_nomes.withColumn('Escolaridade',when((rand() <= 0.33), 'Fundamental').when((rand() <= 0.66), 'Médio').otherwise('Superior'))\n",
        "\n",
        "df_nomes.show(10)"
      ],
      "metadata": {
        "colab": {
          "base_uri": "https://localhost:8080/"
        },
        "id": "G88mDbYD032Z",
        "outputId": "0bcc7185-0fe0-4272-a050-3c5d8a6f8cb3"
      },
      "execution_count": null,
      "outputs": [
        {
          "output_type": "stream",
          "name": "stdout",
          "text": [
            "+-----------------+------------+\n",
            "|            Nomes|Escolaridade|\n",
            "+-----------------+------------+\n",
            "|   Frances Bennet|       Médio|\n",
            "|    Jamie Russell|    Superior|\n",
            "|   Edward Kistler|       Médio|\n",
            "|    Sheila Maurer|       Médio|\n",
            "| Donald Golightly|       Médio|\n",
            "|       David Gray| Fundamental|\n",
            "|      Joy Bennett|       Médio|\n",
            "|      Paul Kriese| Fundamental|\n",
            "|Berniece Ornellas| Fundamental|\n",
            "|    Brian Farrell|       Médio|\n",
            "+-----------------+------------+\n",
            "only showing top 10 rows\n",
            "\n"
          ]
        }
      ]
    },
    {
      "cell_type": "code",
      "source": [
        "paises = [\n",
        "    'Argentina', 'Bolívia', 'Brasil', 'Chile', 'Colômbia',\n",
        "    'Equador', 'Guiana', 'Guiana Francesa', 'Paraguai', 'Peru',\n",
        "    'Suriname', 'Uruguai', 'Venezuela'\n",
        "]\n",
        "df_nomes = df_nomes.withColumn(\n",
        "    'Pais',\n",
        "    when((rand() <= 1/13), paises[0])\n",
        "    .when((rand() <= 2/13), paises[1])\n",
        "    .when((rand() <= 3/13), paises[2])\n",
        "    .when((rand() <= 4/13), paises[3])\n",
        "    .when((rand() <= 5/13), paises[4])\n",
        "    .when((rand() <= 6/13), paises[5])\n",
        "    .when((rand() <= 7/13), paises[6])\n",
        "    .when((rand() <= 8/13), paises[7])\n",
        "    .when((rand() <= 9/13), paises[8])\n",
        "    .when((rand() <= 10/13), paises[9])\n",
        "    .when((rand() <= 11/13), paises[10])\n",
        "    .when((rand() <= 12/13), paises[11])\n",
        "    .otherwise(paises[12])\n",
        ")\n",
        "\n",
        "df_nomes.show(10)"
      ],
      "metadata": {
        "colab": {
          "base_uri": "https://localhost:8080/"
        },
        "id": "RLNT9f_v8Qh_",
        "outputId": "fee27fbb-c045-414b-df58-1d0089cd2c5b"
      },
      "execution_count": null,
      "outputs": [
        {
          "output_type": "stream",
          "name": "stdout",
          "text": [
            "+-----------------+------------+---------------+\n",
            "|            Nomes|Escolaridade|           Pais|\n",
            "+-----------------+------------+---------------+\n",
            "|   Frances Bennet|       Médio|       Colômbia|\n",
            "|    Jamie Russell|    Superior|        Bolívia|\n",
            "|   Edward Kistler|       Médio|           Peru|\n",
            "|    Sheila Maurer|       Médio|         Brasil|\n",
            "| Donald Golightly|       Médio|          Chile|\n",
            "|       David Gray| Fundamental|Guiana Francesa|\n",
            "|      Joy Bennett|       Médio|Guiana Francesa|\n",
            "|      Paul Kriese| Fundamental|          Chile|\n",
            "|Berniece Ornellas| Fundamental|          Chile|\n",
            "|    Brian Farrell|       Médio|         Brasil|\n",
            "+-----------------+------------+---------------+\n",
            "only showing top 10 rows\n",
            "\n"
          ]
        }
      ]
    },
    {
      "cell_type": "code",
      "source": [
        "from pyspark.sql.functions import floor\n",
        "\n",
        "df_nomes = df_nomes.withColumn('AnoNascimento', (floor(rand() * (2010 - 1945 + 1)) + 1945))\n",
        "\n",
        "df_nomes.show(10)"
      ],
      "metadata": {
        "colab": {
          "base_uri": "https://localhost:8080/"
        },
        "id": "9xxnF2buGY4V",
        "outputId": "dd9e82a6-f283-475f-8d65-fbba5dbcd616"
      },
      "execution_count": null,
      "outputs": [
        {
          "output_type": "stream",
          "name": "stdout",
          "text": [
            "+-----------------+------------+---------------+-------------+\n",
            "|            Nomes|Escolaridade|           Pais|AnoNascimento|\n",
            "+-----------------+------------+---------------+-------------+\n",
            "|   Frances Bennet|       Médio|       Colômbia|         1973|\n",
            "|    Jamie Russell|    Superior|        Bolívia|         1978|\n",
            "|   Edward Kistler|       Médio|           Peru|         1949|\n",
            "|    Sheila Maurer|       Médio|         Brasil|         1951|\n",
            "| Donald Golightly|       Médio|          Chile|         1989|\n",
            "|       David Gray| Fundamental|Guiana Francesa|         1949|\n",
            "|      Joy Bennett|       Médio|Guiana Francesa|         1962|\n",
            "|      Paul Kriese| Fundamental|          Chile|         1957|\n",
            "|Berniece Ornellas| Fundamental|          Chile|         1975|\n",
            "|    Brian Farrell|       Médio|         Brasil|         1973|\n",
            "+-----------------+------------+---------------+-------------+\n",
            "only showing top 10 rows\n",
            "\n"
          ]
        }
      ]
    },
    {
      "cell_type": "code",
      "source": [],
      "metadata": {
        "id": "bM0_HhXIZ_rr"
      },
      "execution_count": null,
      "outputs": []
    },
    {
      "cell_type": "code",
      "source": [],
      "metadata": {
        "id": "r5UMlhxUZ_1_"
      },
      "execution_count": null,
      "outputs": []
    },
    {
      "cell_type": "markdown",
      "source": [],
      "metadata": {
        "id": "WdGd7u8QGnwj"
      }
    },
    {
      "cell_type": "code",
      "source": [
        "df_select = df_nomes.filter((df_nomes.AnoNascimento >= 2001) & (df_nomes.AnoNascimento <= 2100))\n",
        "df_select.show(10)"
      ],
      "metadata": {
        "colab": {
          "base_uri": "https://localhost:8080/"
        },
        "id": "HBUGkaawHcfk",
        "outputId": "b4b2e50c-6150-47da-cac2-96eb3a08cbe0"
      },
      "execution_count": null,
      "outputs": [
        {
          "output_type": "stream",
          "name": "stdout",
          "text": [
            "+---------------+------------+-------+-------------+\n",
            "|          Nomes|Escolaridade|   Pais|AnoNascimento|\n",
            "+---------------+------------+-------+-------------+\n",
            "| Kara Mcelwaine|       Médio|Bolívia|         2006|\n",
            "|   Ernest Hulet|       Médio|Bolívia|         2005|\n",
            "|   Charles Hill| Fundamental|  Chile|         2010|\n",
            "|Jerry Chynoweth|       Médio|Bolívia|         2004|\n",
            "|     John Meyer| Fundamental| Guiana|         2008|\n",
            "|    Lisa Baxley| Fundamental| Guiana|         2008|\n",
            "|     Ned Tester|    Superior|Bolívia|         2002|\n",
            "|     April Ward|       Médio|Bolívia|         2007|\n",
            "| Kenneth Winter|    Superior| Brasil|         2007|\n",
            "|  Joyce Bennett| Fundamental| Brasil|         2003|\n",
            "+---------------+------------+-------+-------------+\n",
            "only showing top 10 rows\n",
            "\n"
          ]
        }
      ]
    },
    {
      "cell_type": "code",
      "source": [
        "df_nomes.createOrReplaceTempView('pessoas')\n",
        "\n",
        "spark.sql('select * from pessoas where AnoNascimento >= 2001 and AnoNascimento <= 2100').show(10)"
      ],
      "metadata": {
        "colab": {
          "base_uri": "https://localhost:8080/"
        },
        "id": "oCUqK0G2LDa4",
        "outputId": "5210f2cd-e4dc-46b8-c9d6-12a2102500fa"
      },
      "execution_count": null,
      "outputs": [
        {
          "output_type": "stream",
          "name": "stdout",
          "text": [
            "+---------------+------------+-------+-------------+\n",
            "|          Nomes|Escolaridade|   Pais|AnoNascimento|\n",
            "+---------------+------------+-------+-------------+\n",
            "| Kara Mcelwaine|       Médio|Bolívia|         2006|\n",
            "|   Ernest Hulet|       Médio|Bolívia|         2005|\n",
            "|   Charles Hill| Fundamental|  Chile|         2010|\n",
            "|Jerry Chynoweth|       Médio|Bolívia|         2004|\n",
            "|     John Meyer| Fundamental| Guiana|         2008|\n",
            "|    Lisa Baxley| Fundamental| Guiana|         2008|\n",
            "|     Ned Tester|    Superior|Bolívia|         2002|\n",
            "|     April Ward|       Médio|Bolívia|         2007|\n",
            "| Kenneth Winter|    Superior| Brasil|         2007|\n",
            "|  Joyce Bennett| Fundamental| Brasil|         2003|\n",
            "+---------------+------------+-------+-------------+\n",
            "only showing top 10 rows\n",
            "\n"
          ]
        }
      ]
    },
    {
      "cell_type": "code",
      "source": [
        "filtro_millennials = df_nomes.filter((df_nomes.AnoNascimento >= 1980) & (df_nomes.AnoNascimento <= 1994))\n",
        "\n",
        "quant_millennials = filtro_millennials.count()\n",
        "\n",
        "print(f'Temos {quant_millennials} pessoas que são da geração Millennial')"
      ],
      "metadata": {
        "colab": {
          "base_uri": "https://localhost:8080/"
        },
        "id": "BlgEzvgNMC_n",
        "outputId": "eb6001a5-a6be-49d7-e87c-d898d3bb6bd9"
      },
      "execution_count": null,
      "outputs": [
        {
          "output_type": "stream",
          "name": "stdout",
          "text": [
            "Temos 2275372 pessoas que são da geração Millennial\n"
          ]
        }
      ]
    },
    {
      "cell_type": "code",
      "source": [
        "spark.sql('select count(*) as `Quant. Millennials` from pessoas where AnoNascimento >= 1980 and AnoNascimento <= 1994').show()"
      ],
      "metadata": {
        "colab": {
          "base_uri": "https://localhost:8080/"
        },
        "id": "KzoYjQNvNNRB",
        "outputId": "7a9ae5c8-836b-4aa8-8121-d707c7ef6360"
      },
      "execution_count": null,
      "outputs": [
        {
          "output_type": "stream",
          "name": "stdout",
          "text": [
            "+------------------+\n",
            "|Quant. Millennials|\n",
            "+------------------+\n",
            "|           2275372|\n",
            "+------------------+\n",
            "\n"
          ]
        }
      ]
    },
    {
      "cell_type": "code",
      "source": [
        "from pyspark.sql.functions import col, count, when\n",
        "\n",
        "df_geracoes = df_nomes.withColumn(\n",
        "    'Geracao',\n",
        "    when((col('AnoNascimento') >= 1944) & (col('AnoNascimento') <= 1964), 'Baby Boomer')\n",
        "    .when((col('AnoNascimento') >= 1965) & (col('AnoNascimento') <= 1979), 'Geração X')\n",
        "    .when((col('AnoNascimento') >= 1980) & (col('AnoNascimento') <= 1994), 'Geração Y')\n",
        "    .when((col('AnoNascimento') >= 1995) & (col('AnoNascimento') <= 2015), 'Geração Z')\n",
        ")\n",
        "\n",
        "resultado = (df_geracoes.groupBy('Pais', 'Geracao')\n",
        "    .agg(count('*').alias('Quantidade'))\n",
        "    .orderBy('Pais', 'Geracao','Quantidade')\n",
        ")\n",
        "\n",
        "resultado.show()"
      ],
      "metadata": {
        "colab": {
          "base_uri": "https://localhost:8080/"
        },
        "id": "-5lZwy20Obg4",
        "outputId": "c749000c-82ff-4e48-cea5-a633ea031ec4"
      },
      "execution_count": null,
      "outputs": [
        {
          "output_type": "stream",
          "name": "stdout",
          "text": [
            "+---------+-----------+----------+\n",
            "|     Pais|    Geracao|Quantidade|\n",
            "+---------+-----------+----------+\n",
            "|Argentina|Baby Boomer|    233493|\n",
            "|Argentina|  Geração X|    174871|\n",
            "|Argentina|  Geração Y|    175613|\n",
            "|Argentina|  Geração Z|    186276|\n",
            "|  Bolívia|Baby Boomer|    430859|\n",
            "|  Bolívia|  Geração X|    322667|\n",
            "|  Bolívia|  Geração Y|    322674|\n",
            "|  Bolívia|  Geração Z|    343594|\n",
            "|   Brasil|Baby Boomer|    546430|\n",
            "|   Brasil|  Geração X|    410211|\n",
            "|   Brasil|  Geração Y|    410396|\n",
            "|   Brasil|  Geração Z|    436612|\n",
            "|    Chile|Baby Boomer|    560431|\n",
            "|    Chile|  Geração X|    420532|\n",
            "|    Chile|  Geração Y|    420228|\n",
            "|    Chile|  Geração Z|    447153|\n",
            "| Colômbia|Baby Boomer|    486050|\n",
            "| Colômbia|  Geração X|    363789|\n",
            "| Colômbia|  Geração Y|    363904|\n",
            "| Colômbia|  Geração Z|    386974|\n",
            "+---------+-----------+----------+\n",
            "only showing top 20 rows\n",
            "\n"
          ]
        }
      ]
    },
    {
      "cell_type": "code",
      "source": [],
      "metadata": {
        "id": "aycMEd_eQuwn"
      },
      "execution_count": null,
      "outputs": []
    }
  ]
}